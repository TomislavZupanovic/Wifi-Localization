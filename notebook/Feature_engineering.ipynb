{
 "cells": [
  {
   "cell_type": "code",
   "execution_count": 45,
   "metadata": {},
   "outputs": [],
   "source": [
    "import numpy as np\n",
    "import pandas as pd\n",
    "import matplotlib.pyplot as plt\n",
    "import os\n",
    "import warnings\n",
    "import xgboost as xgb\n",
    "from xgboost import XGBClassifier\n",
    "from sklearn.preprocessing import QuantileTransformer\n",
    "from sklearn.preprocessing import LabelEncoder\n",
    "from sklearn.model_selection import train_test_split\n",
    "import seaborn as sn\n",
    "from sklearn.metrics import accuracy_score, confusion_matrix, f1_score\n",
    "warnings.filterwarnings(\"ignore\")\n",
    "%matplotlib inline"
   ]
  },
  {
   "cell_type": "code",
   "execution_count": 2,
   "metadata": {},
   "outputs": [],
   "source": [
    "def drop_ap(csv):\n",
    "    number = csv.ap_id.value_counts()\n",
    "    ap_to_drop = number[number < 2000].index\n",
    "    idx = csv[csv['ap_id'].isin(list(ap_to_drop))].index\n",
    "    droped_csv = csv.drop(idx).reset_index(drop=True)\n",
    "    return droped_csv "
   ]
  },
  {
   "cell_type": "code",
   "execution_count": 3,
   "metadata": {},
   "outputs": [],
   "source": [
    "def smooth_signal(csv_list):\n",
    "    \"\"\" Smoothing signal of each Access Point with Exponential Weighted Moving Average \"\"\"\n",
    "    for csv in csv_list:\n",
    "        ap_list = list(csv.ap_id.unique())\n",
    "        for ap in ap_list:\n",
    "            cut = csv.loc[csv.ap_id == ap]\n",
    "            cut.rssi = cut.rssi.ewm(span=100, min_periods=0).mean()\n",
    "            csv.update(cut)"
   ]
  },
  {
   "cell_type": "code",
   "execution_count": 4,
   "metadata": {},
   "outputs": [],
   "source": [
    "def binning(data_to_parse):\n",
    "    data = data_to_parse.copy()\n",
    "    data['level'] = 0\n",
    "    rooms = list(data.room_id.unique())\n",
    "    points = list(data.ap_id.unique())\n",
    "    for room in rooms:\n",
    "        for ap in points:\n",
    "            cut = data.loc[(data.ap_id == ap) & (data.room_id == room)]\n",
    "            cut['level'] = pd.qcut(cut.rssi, q=3, labels=['Low','Medium','High'])\n",
    "            data.update(cut)\n",
    "    return data"
   ]
  },
  {
   "cell_type": "code",
   "execution_count": 47,
   "metadata": {},
   "outputs": [],
   "source": [
    "def category_encoding(data_to_encode):\n",
    "    data = data_to_encode.copy()\n",
    "    room_encoder, ap_encoder = LabelEncoder(), LabelEncoder()\n",
    "    level_mapper = {'Low': 1, 'Medium': 2, 'High': 3}\n",
    "    data.room_id = room_encoder.fit_transform(data.room_id)\n",
    "    data.ap_id = ap_encoder.fit_transform(data.ap_id)\n",
    "    if 'level' in data:\n",
    "        data.level = data.level.map(level_mapper).astype(np.int32)\n",
    "    return data, room_encoder "
   ]
  },
  {
   "cell_type": "code",
   "execution_count": 48,
   "metadata": {},
   "outputs": [],
   "source": [
    "def data_split(data_to_split):\n",
    "    data = data_to_split.copy()\n",
    "    target = data.pop('room_id').values\n",
    "    features = data.values\n",
    "    \"\"\" Splitting data into train, validation and test \"\"\"\n",
    "    x_train, x_test, y_train, y_test = train_test_split(features, target, test_size=0.1)\n",
    "    x_train, x_valid, y_train, y_valid = train_test_split(x_train, y_train, test_size=0.1)\n",
    "    return x_train, x_valid, x_test, y_train, y_valid, y_test"
   ]
  },
  {
   "cell_type": "code",
   "execution_count": 79,
   "metadata": {},
   "outputs": [],
   "source": [
    "def xgb_train(x_train, y_train):\n",
    "    model = XGBClassifier(objective='multi:softmax', n_estimators=3000, learning_rate=0.01, min_child_weight=2, max_depth=10,\n",
    "                        gamma=1, verbosity=0)\n",
    "    print('Training...')\n",
    "    model.fit(x_train, y_train)\n",
    "    print('Training done!')\n",
    "    return model"
   ]
  },
  {
   "cell_type": "code",
   "execution_count": 50,
   "metadata": {},
   "outputs": [],
   "source": [
    "def evaluate(x,y, model):\n",
    "    pred = model.predict(x)\n",
    "    accuracy = accuracy_score(y, pred)\n",
    "    f1 = f1_score(y, pred, average='macro')\n",
    "    print('Accuracy: {:.3f}'.format(accuracy))\n",
    "    print('F1 score: {:.3f}'.format(f1))"
   ]
  },
  {
   "cell_type": "code",
   "execution_count": 80,
   "metadata": {},
   "outputs": [],
   "source": [
    "file_list = os.listdir('../src/data/')\n",
    "data_list = [pd.read_csv(f'../src/data/{file}') for file in file_list]\n",
    "raw_data = pd.concat(data_list).reset_index(drop=True)"
   ]
  },
  {
   "cell_type": "code",
   "execution_count": 81,
   "metadata": {},
   "outputs": [],
   "source": [
    "#smooth_signal(data_list)\n",
    "data = pd.concat(data_list).reset_index(drop=True)\n",
    "parsed_data = drop_ap(data)\n",
    "feature_data = binning(parsed_data)"
   ]
  },
  {
   "cell_type": "code",
   "execution_count": 82,
   "metadata": {},
   "outputs": [],
   "source": [
    "encoded_data, room_encoder = category_encoding(feature_data)"
   ]
  },
  {
   "cell_type": "code",
   "execution_count": 83,
   "metadata": {},
   "outputs": [],
   "source": [
    "x_train, x_valid, x_test, y_train, y_valid, y_test = data_split(encoded_data)"
   ]
  },
  {
   "cell_type": "code",
   "execution_count": 84,
   "metadata": {},
   "outputs": [
    {
     "name": "stdout",
     "output_type": "stream",
     "text": [
      "Training...\n",
      "Training done!\n"
     ]
    }
   ],
   "source": [
    "model = xgb_train(x_train, y_train)"
   ]
  },
  {
   "cell_type": "code",
   "execution_count": 85,
   "metadata": {},
   "outputs": [
    {
     "name": "stdout",
     "output_type": "stream",
     "text": [
      "Accuracy: 0.613\n",
      "F1 score: 0.605\n"
     ]
    }
   ],
   "source": [
    "evaluate(x_train, y_train, model)"
   ]
  },
  {
   "cell_type": "code",
   "execution_count": 86,
   "metadata": {},
   "outputs": [
    {
     "name": "stdout",
     "output_type": "stream",
     "text": [
      "Accuracy: 0.585\n",
      "F1 score: 0.582\n"
     ]
    }
   ],
   "source": [
    "evaluate(x_valid, y_valid, model)"
   ]
  },
  {
   "cell_type": "code",
   "execution_count": 87,
   "metadata": {},
   "outputs": [
    {
     "name": "stdout",
     "output_type": "stream",
     "text": [
      "Accuracy: 0.607\n",
      "F1 score: 0.613\n"
     ]
    }
   ],
   "source": [
    "evaluate(x_test, y_test, model)"
   ]
  },
  {
   "cell_type": "code",
   "execution_count": 88,
   "metadata": {},
   "outputs": [
    {
     "data": {
      "image/png": "[encoded data removed]",
      "text/plain": [
       "<Figure size 432x288 with 1 Axes>"
      ]
     },
     "metadata": {
      "needs_background": "light"
     },
     "output_type": "display_data"
    }
   ],
   "source": [
    "features = encoded_data.copy()\n",
    "y = features.pop('room_id')\n",
    "pd.DataFrame(model.feature_importances_.reshape(1, -1), columns=features.columns)\n",
    "plt.bar(features.columns, model.feature_importances_, width=0.4);"
   ]
  },
  {
   "cell_type": "code",
   "execution_count": 89,
   "metadata": {},
   "outputs": [],
   "source": [
    "cut = encoded_data[5010:5020] # Data for room \"2\"\n",
    "y = cut.pop('room_id').values\n",
    "x = cut.values"
   ]
  },
  {
   "cell_type": "code",
   "execution_count": 90,
   "metadata": {},
   "outputs": [
    {
     "name": "stdout",
     "output_type": "stream",
     "text": [
      "Prediction: 2\n"
     ]
    }
   ],
   "source": [
    "prediction = model.predict(x)\n",
    "counts = np.bincount(prediction)\n",
    "print('Prediction:', np.argmax(counts))"
   ]
  },
  {
   "cell_type": "code",
   "execution_count": 91,
   "metadata": {},
   "outputs": [
    {
     "data": {
      "text/plain": [
       "array([2, 5, 5, 2, 5, 2, 2, 2, 2, 2])"
      ]
     },
     "execution_count": 91,
     "metadata": {},
     "output_type": "execute_result"
    }
   ],
   "source": [
    "prediction"
   ]
  },
  {
   "cell_type": "code",
   "execution_count": 61,
   "metadata": {},
   "outputs": [],
   "source": [
    "def cm_dataframe(pred_arr, y, room_encoder):\n",
    "    \"\"\" Calculates Confusion Matrix and makes DataFrame for plotting it \"\"\"\n",
    "    encoded_labels = [i for i in range(len(os.listdir('../src/data/')))]\n",
    "    labels = room_encoder.inverse_transform(encoded_labels)\n",
    "    cm = confusion_matrix(y, pred_arr)\n",
    "    df_cm = pd.DataFrame(cm, index=[i for i in labels],\n",
    "                         columns=[i for i in labels])\n",
    "    return df_cm"
   ]
  },
  {
   "cell_type": "code",
   "execution_count": 70,
   "metadata": {},
   "outputs": [],
   "source": [
    "def plot_cm(x, y, model, room_encoder):\n",
    "    plt.figure(figsize=(8,6))\n",
    "    pred = model.predict(x)\n",
    "    df_cm = cm_dataframe(pred, y, room_encoder)\n",
    "    sn.heatmap(df_cm, annot=True, cmap=\"Blues\", fmt='g')\n",
    "    plt.ylabel('True labels')\n",
    "    plt.xlabel('Predicted labels')\n",
    "    plt.show()"
   ]
  },
  {
   "cell_type": "code",
   "execution_count": 92,
   "metadata": {},
   "outputs": [
    {
     "data": {
      "image/png": "[encoded data removed]",
      "text/plain": [
       "<Figure size 576x432 with 2 Axes>"
      ]
     },
     "metadata": {
      "needs_background": "light"
     },
     "output_type": "display_data"
    }
   ],
   "source": [
    "plot_cm(x_test, y_test, model, room_encoder)"
   ]
  },
  {
   "cell_type": "code",
   "execution_count": null,
   "metadata": {},
   "outputs": [],
   "source": []
  }
 ],
 "metadata": {
  "kernelspec": {
   "display_name": "Python 3",
   "language": "python",
   "name": "python3"
  },
  "language_info": {
   "codemirror_mode": {
    "name": "ipython",
    "version": 3
   },
   "file_extension": ".py",
   "mimetype": "text/x-python",
   "name": "python",
   "nbconvert_exporter": "python",
   "pygments_lexer": "ipython3",
   "version": "3.6.8"
  }
 },
 "nbformat": 4,
 "nbformat_minor": 2
}
